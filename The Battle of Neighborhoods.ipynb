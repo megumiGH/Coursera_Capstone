{
    "cells": [
        {
            "cell_type": "markdown",
            "metadata": {},
            "source": "# The Battle of Neighborhoods\nCoursera's \"Applied Data Science Capstone\", Week 4 and 5 Assignment"
        },
        {
            "cell_type": "markdown",
            "metadata": {},
            "source": "## Section 1. Background and Problem"
        },
        {
            "cell_type": "markdown",
            "metadata": {},
            "source": "### I love this city, BUT\n\nLet me begin by introducing myself a little bit. \nWe moved from another country 5 years ago and started living in THE \"Silicon Valley\", California, U.S.A.\nWe love everything about the area, especially the cultural diversity!\nEveryone is so different and we love the fact that being different is okay, actually it's what makes everyone so unique. \n\nBUT, the real estate here is a disaster. Who knew this is place has the highest median rent in the country??\nIf we could live in a similar city in the States with similar multi-cultural environment, where would that be?\nIs it New York? Is it Portland? Is it Seattle? Or even Austin? \nHow are they similar or different from San Francisco?\n\n### Target Audience\n\nThe target audience is someone like us, an immigrant who has little or no knowledge about the differences or similarities between the major cities in the United States. \nBy grouping the similar cities together by K-means clustering, we can have some kind of idea where we want to move to if we wanted to.\n\nIn addition, the clustered result may benefit real estate companies to invest in cities where it shares the similar characteristic to City A and suggest the location to people who wants to relocate like us.\n"
        },
        {
            "cell_type": "markdown",
            "metadata": {},
            "source": "## Section 2. Data, and how it be used to solve the problem\n\nI will be mainly using the below three data to solve the problem.\n\n\n### 1) List of United States cities by population\n\nFirst I would need a list of major cities in the States and if the data has some additional information about the city, that would be great. \nI came across this convenient table in the wikipedia!\n\nhttps://en.wikipedia.org/wiki/List_of_United_States_cities_by_population\n\nLet me show you the example of the data and while I'm at it, I'm going to scrape the table. "
        },
        {
            "cell_type": "code",
            "execution_count": 1,
            "metadata": {},
            "outputs": [
                {
                    "data": {
                        "text/html": "<div>\n<style scoped>\n    .dataframe tbody tr th:only-of-type {\n        vertical-align: middle;\n    }\n\n    .dataframe tbody tr th {\n        vertical-align: top;\n    }\n\n    .dataframe thead th {\n        text-align: right;\n    }\n</style>\n<table border=\"1\" class=\"dataframe\">\n  <thead>\n    <tr style=\"text-align: right;\">\n      <th></th>\n      <th>2018 Rank</th>\n      <th>City</th>\n      <th>State</th>\n      <th>2018 estimate</th>\n      <th>2010 Census</th>\n      <th>Change</th>\n      <th>2016 land area mile</th>\n      <th>2016 land area km</th>\n      <th>2016 population density mi</th>\n      <th>2016 population density km</th>\n      <th>location</th>\n    </tr>\n  </thead>\n  <tbody>\n    <tr>\n      <th>0</th>\n      <td>1</td>\n      <td>New York[d]</td>\n      <td>New York</td>\n      <td>8,398,748</td>\n      <td>8,175,133</td>\n      <td>+2.74%</td>\n      <td>301.5\u00a0sq\u00a0mi</td>\n      <td>780.9\u00a0km2</td>\n      <td>28,317/sq\u00a0mi</td>\n      <td>10,933/km2</td>\n      <td>40\u00b039\u203249\u2033N 73\u00b056\u203219\u2033W\ufeff / \ufeff40.6635\u00b0N 73.9387\u00b0W\ufeff...</td>\n    </tr>\n    <tr>\n      <th>1</th>\n      <td>2</td>\n      <td>Los Angeles</td>\n      <td>California</td>\n      <td>3,990,456</td>\n      <td>3,792,621</td>\n      <td>+5.22%</td>\n      <td>468.7\u00a0sq\u00a0mi</td>\n      <td>1,213.9\u00a0km2</td>\n      <td>8,484/sq\u00a0mi</td>\n      <td>3,276/km2</td>\n      <td>34\u00b001\u203210\u2033N 118\u00b024\u203239\u2033W\ufeff / \ufeff34.0194\u00b0N 118.4108\u00b0...</td>\n    </tr>\n    <tr>\n      <th>2</th>\n      <td>3</td>\n      <td>Chicago</td>\n      <td>Illinois</td>\n      <td>2,705,994</td>\n      <td>2,695,598</td>\n      <td>+0.39%</td>\n      <td>227.3\u00a0sq\u00a0mi</td>\n      <td>588.7\u00a0km2</td>\n      <td>11,900/sq\u00a0mi</td>\n      <td>4,600/km2</td>\n      <td>41\u00b050\u203215\u2033N 87\u00b040\u203254\u2033W\ufeff / \ufeff41.8376\u00b0N 87.6818\u00b0W\ufeff...</td>\n    </tr>\n    <tr>\n      <th>3</th>\n      <td>4</td>\n      <td>Houston[3]</td>\n      <td>Texas</td>\n      <td>2,325,502</td>\n      <td>2,100,263</td>\n      <td>+10.72%</td>\n      <td>637.5\u00a0sq\u00a0mi</td>\n      <td>1,651.1\u00a0km2</td>\n      <td>3,613/sq\u00a0mi</td>\n      <td>1,395/km2</td>\n      <td>29\u00b047\u203212\u2033N 95\u00b023\u203227\u2033W\ufeff / \ufeff29.7866\u00b0N 95.3909\u00b0W\ufeff...</td>\n    </tr>\n    <tr>\n      <th>4</th>\n      <td>5</td>\n      <td>Phoenix</td>\n      <td>Arizona</td>\n      <td>1,660,272</td>\n      <td>1,445,632</td>\n      <td>+14.85%</td>\n      <td>517.6\u00a0sq\u00a0mi</td>\n      <td>1,340.6\u00a0km2</td>\n      <td>3,120/sq\u00a0mi</td>\n      <td>1,200/km2</td>\n      <td>33\u00b034\u203220\u2033N 112\u00b005\u203224\u2033W\ufeff / \ufeff33.5722\u00b0N 112.0901\u00b0...</td>\n    </tr>\n  </tbody>\n</table>\n</div>",
                        "text/plain": "  2018 Rank         City       State 2018 estimate 2010 Census   Change  \\\n0         1  New York[d]    New York     8,398,748   8,175,133   +2.74%   \n1         2  Los Angeles  California     3,990,456   3,792,621   +5.22%   \n2         3      Chicago    Illinois     2,705,994   2,695,598   +0.39%   \n3         4   Houston[3]       Texas     2,325,502   2,100,263  +10.72%   \n4         5      Phoenix     Arizona     1,660,272   1,445,632  +14.85%   \n\n  2016 land area mile 2016 land area km 2016 population density mi  \\\n0         301.5\u00a0sq\u00a0mi         780.9\u00a0km2               28,317/sq\u00a0mi   \n1         468.7\u00a0sq\u00a0mi       1,213.9\u00a0km2                8,484/sq\u00a0mi   \n2         227.3\u00a0sq\u00a0mi         588.7\u00a0km2               11,900/sq\u00a0mi   \n3         637.5\u00a0sq\u00a0mi       1,651.1\u00a0km2                3,613/sq\u00a0mi   \n4         517.6\u00a0sq\u00a0mi       1,340.6\u00a0km2                3,120/sq\u00a0mi   \n\n  2016 population density km  \\\n0                 10,933/km2   \n1                  3,276/km2   \n2                  4,600/km2   \n3                  1,395/km2   \n4                  1,200/km2   \n\n                                            location  \n0  40\u00b039\u203249\u2033N 73\u00b056\u203219\u2033W\ufeff / \ufeff40.6635\u00b0N 73.9387\u00b0W\ufeff...  \n1  34\u00b001\u203210\u2033N 118\u00b024\u203239\u2033W\ufeff / \ufeff34.0194\u00b0N 118.4108\u00b0...  \n2  41\u00b050\u203215\u2033N 87\u00b040\u203254\u2033W\ufeff / \ufeff41.8376\u00b0N 87.6818\u00b0W\ufeff...  \n3  29\u00b047\u203212\u2033N 95\u00b023\u203227\u2033W\ufeff / \ufeff29.7866\u00b0N 95.3909\u00b0W\ufeff...  \n4  33\u00b034\u203220\u2033N 112\u00b005\u203224\u2033W\ufeff / \ufeff33.5722\u00b0N 112.0901\u00b0...  "
                    },
                    "execution_count": 1,
                    "metadata": {},
                    "output_type": "execute_result"
                }
            ],
            "source": "import pandas as pd\nimport requests\nfrom bs4 import BeautifulSoup\n\nwebsite_text = requests.get('https://en.wikipedia.org/wiki/List_of_United_States_cities_by_population').text\nsoup = BeautifulSoup(website_text,'xml')\n\ntable = soup.find('table',{'class':'wikitable sortable'}) \ntable_rows = table.find_all('tr')\n\ndata = []\nfor row in table_rows:\n    data.append([t.text.strip() for t in row.find_all('td')])\n\ndf = pd.DataFrame(data, columns=['2018 Rank', 'City', 'State', '2018 estimate', '2010 Census', 'Change', '2016 land area mile','2016 land area km', '2016 population density mi','2016 population density km', 'location'])\ndf.drop(df.index[0], inplace=True)\ndf.reset_index(drop=True, inplace=True)\ndf.head()"
        },
        {
            "cell_type": "markdown",
            "metadata": {},
            "source": "### 2) Foursquare location data\n\nSecondly, I need location data to compare each city. That's were the Foursquare location data comes in. \nI know from the labs and the assignments from week 3 that Foursquare location data returns nearby venues when given a coordinate. \n\nThe data from above 1. List of United States cities by population also has the city coordinates in the table so I'll be able to utililze that information as well.\nHopefully I'll be able to generate a map with a k-means cluster like we did in the lab and also in the week 3's assignment."
        },
        {
            "cell_type": "markdown",
            "metadata": {},
            "source": "### 3) Latest rent data for city and state\n\nI am still debating whether to actively use the latest rent data in the analysis or not. \nThe reason is, do I really want to live somewhere that has a similar rent compared to the current location?\nWouldn't it make sence to find somewhere that has a similar location characteristic obtained by the Foursquare?\nThat being considered, there is a high possibility that I'll just have the latest rent data nearby, and use that as a reference to sort the list of similar cities in the end. \n\nLuckily, I found a site that provides the lates rent data for city and state here: \n\nhttps://www.apartmentlist.com/rentonomics/rental-price-data/\n\nI can also download a csv, so I did to a dataframe shown below. \nAs it is sorted by the States first, the head() gives the State information first and the tail() gives City, ST information. \n\nBy the way, the city where I live in is ranked NUMBER ONE, which is not something I find funny."
        },
        {
            "cell_type": "code",
            "execution_count": 2,
            "metadata": {},
            "outputs": [
                {
                    "name": "stdout",
                    "output_type": "stream",
                    "text": "--2019-12-18 22:38:10--  https://www.apartmentlist.com/rentonomics/wp-content/uploads/2019/12/Apartment-List-Rent-Data-Summary_2019-11.csv\nResolving www.apartmentlist.com (www.apartmentlist.com)... 151.101.50.217\nConnecting to www.apartmentlist.com (www.apartmentlist.com)|151.101.50.217|:443... connected.\nHTTP request sent, awaiting response... 200 OK\nLength: 43844 (43K) [text/csv]\nSaving to: \u2018rent.csv\u2019\n\n100%[======================================>] 43,844      --.-K/s   in 0.003s  \n\n2019-12-18 22:38:10 (12.1 MB/s) - \u2018rent.csv\u2019 saved [43844/43844]\n\n"
                },
                {
                    "data": {
                        "text/html": "<div>\n<style scoped>\n    .dataframe tbody tr th:only-of-type {\n        vertical-align: middle;\n    }\n\n    .dataframe tbody tr th {\n        vertical-align: top;\n    }\n\n    .dataframe thead th {\n        text-align: right;\n    }\n</style>\n<table border=\"1\" class=\"dataframe\">\n  <thead>\n    <tr style=\"text-align: right;\">\n      <th></th>\n      <th>Location</th>\n      <th>Location_Type</th>\n      <th>Year</th>\n      <th>Month</th>\n      <th>Price_Studio</th>\n      <th>Price_1br</th>\n      <th>Price_2br</th>\n      <th>Price_3br</th>\n      <th>Price_4br</th>\n      <th>Price_Change_MoM</th>\n      <th>Price_Change_YoY</th>\n    </tr>\n  </thead>\n  <tbody>\n    <tr>\n      <th>0</th>\n      <td>National</td>\n      <td>National</td>\n      <td>2019</td>\n      <td>11</td>\n      <td>839</td>\n      <td>960</td>\n      <td>1191</td>\n      <td>1600</td>\n      <td>1865</td>\n      <td>0.0</td>\n      <td>1.4</td>\n    </tr>\n    <tr>\n      <th>1</th>\n      <td>Alabama</td>\n      <td>State</td>\n      <td>2019</td>\n      <td>11</td>\n      <td>623</td>\n      <td>678</td>\n      <td>824</td>\n      <td>1101</td>\n      <td>1280</td>\n      <td>0.4</td>\n      <td>1.9</td>\n    </tr>\n    <tr>\n      <th>2</th>\n      <td>Alaska</td>\n      <td>State</td>\n      <td>2019</td>\n      <td>11</td>\n      <td>812</td>\n      <td>928</td>\n      <td>1187</td>\n      <td>1677</td>\n      <td>2014</td>\n      <td>0.1</td>\n      <td>-0.3</td>\n    </tr>\n    <tr>\n      <th>3</th>\n      <td>Arizona</td>\n      <td>State</td>\n      <td>2019</td>\n      <td>11</td>\n      <td>734</td>\n      <td>867</td>\n      <td>1095</td>\n      <td>1583</td>\n      <td>1837</td>\n      <td>0.2</td>\n      <td>3.5</td>\n    </tr>\n    <tr>\n      <th>4</th>\n      <td>Arkansas</td>\n      <td>State</td>\n      <td>2019</td>\n      <td>11</td>\n      <td>529</td>\n      <td>576</td>\n      <td>728</td>\n      <td>987</td>\n      <td>1156</td>\n      <td>0.0</td>\n      <td>0.9</td>\n    </tr>\n  </tbody>\n</table>\n</div>",
                        "text/plain": "   Location Location_Type  Year  Month  Price_Studio  Price_1br  Price_2br  \\\n0  National      National  2019     11           839        960       1191   \n1   Alabama         State  2019     11           623        678        824   \n2    Alaska         State  2019     11           812        928       1187   \n3   Arizona         State  2019     11           734        867       1095   \n4  Arkansas         State  2019     11           529        576        728   \n\n   Price_3br  Price_4br  Price_Change_MoM  Price_Change_YoY  \n0       1600       1865               0.0               1.4  \n1       1101       1280               0.4               1.9  \n2       1677       2014               0.1              -0.3  \n3       1583       1837               0.2               3.5  \n4        987       1156               0.0               0.9  "
                    },
                    "execution_count": 2,
                    "metadata": {},
                    "output_type": "execute_result"
                }
            ],
            "source": "import pandas as pd\n\n!wget -O rent.csv https://www.apartmentlist.com/rentonomics/wp-content/uploads/2019/12/Apartment-List-Rent-Data-Summary_2019-11.csv\nrent = pd.read_csv(\"rent.csv\")\nrent.head()"
        },
        {
            "cell_type": "code",
            "execution_count": 3,
            "metadata": {},
            "outputs": [
                {
                    "data": {
                        "text/html": "<div>\n<style scoped>\n    .dataframe tbody tr th:only-of-type {\n        vertical-align: middle;\n    }\n\n    .dataframe tbody tr th {\n        vertical-align: top;\n    }\n\n    .dataframe thead th {\n        text-align: right;\n    }\n</style>\n<table border=\"1\" class=\"dataframe\">\n  <thead>\n    <tr style=\"text-align: right;\">\n      <th></th>\n      <th>Location</th>\n      <th>Location_Type</th>\n      <th>Year</th>\n      <th>Month</th>\n      <th>Price_Studio</th>\n      <th>Price_1br</th>\n      <th>Price_2br</th>\n      <th>Price_3br</th>\n      <th>Price_4br</th>\n      <th>Price_Change_MoM</th>\n      <th>Price_Change_YoY</th>\n    </tr>\n  </thead>\n  <tbody>\n    <tr>\n      <th>708</th>\n      <td>Yakima, WA</td>\n      <td>City</td>\n      <td>2019</td>\n      <td>11</td>\n      <td>604</td>\n      <td>705</td>\n      <td>914</td>\n      <td>1261</td>\n      <td>1448</td>\n      <td>-0.2</td>\n      <td>0.8</td>\n    </tr>\n    <tr>\n      <th>709</th>\n      <td>Youngstown, OH</td>\n      <td>City</td>\n      <td>2019</td>\n      <td>11</td>\n      <td>515</td>\n      <td>577</td>\n      <td>727</td>\n      <td>945</td>\n      <td>1051</td>\n      <td>-0.2</td>\n      <td>-0.9</td>\n    </tr>\n    <tr>\n      <th>710</th>\n      <td>Ypsilanti, MI</td>\n      <td>City</td>\n      <td>2019</td>\n      <td>11</td>\n      <td>815</td>\n      <td>868</td>\n      <td>1047</td>\n      <td>1438</td>\n      <td>1804</td>\n      <td>0.0</td>\n      <td>2.6</td>\n    </tr>\n    <tr>\n      <th>711</th>\n      <td>Yucca Valley, CA</td>\n      <td>City</td>\n      <td>2019</td>\n      <td>11</td>\n      <td>578</td>\n      <td>692</td>\n      <td>865</td>\n      <td>1216</td>\n      <td>1497</td>\n      <td>0.2</td>\n      <td>3.0</td>\n    </tr>\n    <tr>\n      <th>712</th>\n      <td>Zion, IL</td>\n      <td>City</td>\n      <td>2019</td>\n      <td>11</td>\n      <td>776</td>\n      <td>900</td>\n      <td>1059</td>\n      <td>1354</td>\n      <td>1611</td>\n      <td>-0.4</td>\n      <td>1.3</td>\n    </tr>\n  </tbody>\n</table>\n</div>",
                        "text/plain": "             Location Location_Type  Year  Month  Price_Studio  Price_1br  \\\n708        Yakima, WA          City  2019     11           604        705   \n709    Youngstown, OH          City  2019     11           515        577   \n710     Ypsilanti, MI          City  2019     11           815        868   \n711  Yucca Valley, CA          City  2019     11           578        692   \n712          Zion, IL          City  2019     11           776        900   \n\n     Price_2br  Price_3br  Price_4br  Price_Change_MoM  Price_Change_YoY  \n708        914       1261       1448              -0.2               0.8  \n709        727        945       1051              -0.2              -0.9  \n710       1047       1438       1804               0.0               2.6  \n711        865       1216       1497               0.2               3.0  \n712       1059       1354       1611              -0.4               1.3  "
                    },
                    "execution_count": 3,
                    "metadata": {},
                    "output_type": "execute_result"
                }
            ],
            "source": "rent.tail()"
        },
        {
            "cell_type": "code",
            "execution_count": null,
            "metadata": {},
            "outputs": [],
            "source": ""
        }
    ],
    "metadata": {
        "kernelspec": {
            "display_name": "Python 3.6",
            "language": "python",
            "name": "python3"
        },
        "language_info": {
            "codemirror_mode": {
                "name": "ipython",
                "version": 3
            },
            "file_extension": ".py",
            "mimetype": "text/x-python",
            "name": "python",
            "nbconvert_exporter": "python",
            "pygments_lexer": "ipython3",
            "version": "3.6.8"
        }
    },
    "nbformat": 4,
    "nbformat_minor": 1
}